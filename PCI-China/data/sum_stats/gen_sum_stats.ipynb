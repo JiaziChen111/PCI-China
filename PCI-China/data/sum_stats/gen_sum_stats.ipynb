{
 "cells": [
  {
   "cell_type": "code",
   "execution_count": 1,
   "metadata": {},
   "outputs": [],
   "source": [
    "import pandas as pd\n",
    "import sqlite3\n",
    "import datetime"
   ]
  },
  {
   "cell_type": "code",
   "execution_count": 2,
   "metadata": {},
   "outputs": [],
   "source": [
    "data_text = '../Output/database.db'\n",
    "conn = sqlite3.connect(data_text)\n",
    "df = pd.read_sql_query(\"select * from main\", conn)\n",
    "df['date'] = pd.to_datetime(df['date'], errors='coerce')\n",
    "df['Qdate'] = [date - pd.tseries.offsets.DateOffset(days=1) + pd.tseries.offsets.QuarterEnd() for date in df.date]"
   ]
  },
  {
   "cell_type": "code",
   "execution_count": 3,
   "metadata": {},
   "outputs": [],
   "source": [
    "# df"
   ]
  },
  {
   "cell_type": "code",
   "execution_count": 4,
   "metadata": {},
   "outputs": [
    {
     "name": "stdout",
     "output_type": "stream",
     "text": [
      "1910989\n",
      "226313\n",
      "0.11842715996795376\n"
     ]
    }
   ],
   "source": [
    "print(len(df))\n",
    "print(len(df[df['page']==1]))\n",
    "print(len(df[df['page']==1])/len(df))"
   ]
  },
  {
   "cell_type": "code",
   "execution_count": 5,
   "metadata": {},
   "outputs": [],
   "source": [
    "sum_stats1 = df.groupby('Qdate')['frontpage'].mean().reset_index()\n",
    "sum_stats2 = df.groupby('Qdate')['id'].count().reset_index()\n",
    "sum_stats = pd.merge(sum_stats1, sum_stats2, on='Qdate')"
   ]
  },
  {
   "cell_type": "code",
   "execution_count": 6,
   "metadata": {},
   "outputs": [],
   "source": [
    "# sum_stats"
   ]
  },
  {
   "cell_type": "code",
   "execution_count": 7,
   "metadata": {},
   "outputs": [],
   "source": [
    "sum_stats.to_csv(\"sum_stats.csv\", index=False)"
   ]
  }
 ],
 "metadata": {
  "kernelspec": {
   "display_name": "Python 3",
   "language": "python",
   "name": "python3"
  },
  "language_info": {
   "codemirror_mode": {
    "name": "ipython",
    "version": 3
   },
   "file_extension": ".py",
   "mimetype": "text/x-python",
   "name": "python",
   "nbconvert_exporter": "python",
   "pygments_lexer": "ipython3",
   "version": "3.6.5"
  }
 },
 "nbformat": 4,
 "nbformat_minor": 2
}
